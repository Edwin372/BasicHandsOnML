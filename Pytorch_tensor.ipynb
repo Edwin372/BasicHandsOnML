{
  "cells": [
    {
      "cell_type": "markdown",
      "metadata": {
        "id": "view-in-github",
        "colab_type": "text"
      },
      "source": [
        "<a href=\"https://colab.research.google.com/github/Edwin372/BasicHandsOnML/blob/main/Pytorch_tensor.ipynb\" target=\"_parent\"><img src=\"https://colab.research.google.com/assets/colab-badge.svg\" alt=\"Open In Colab\"/></a>"
      ]
    },
    {
      "cell_type": "markdown",
      "source": [
        "#Working with pytorch tensors"
      ],
      "metadata": {
        "id": "e_ciL6-kcNE6"
      }
    },
    {
      "cell_type": "code",
      "source": [
        "import torch\n",
        "\n",
        "print(torch.__version__)"
      ],
      "metadata": {
        "colab": {
          "base_uri": "https://localhost:8080/"
        },
        "id": "ND7tz1K6cVDp",
        "outputId": "02ec0d80-e3a2-4c4d-de8c-b09765e25b5a"
      },
      "execution_count": null,
      "outputs": [
        {
          "output_type": "stream",
          "name": "stdout",
          "text": [
            "1.11.0+cu113\n"
          ]
        }
      ]
    },
    {
      "cell_type": "markdown",
      "source": [
        "Only floating point data type is support as the default type in Pytorch"
      ],
      "metadata": {
        "id": "mExv8Wl7cqlQ"
      }
    },
    {
      "cell_type": "code",
      "source": [
        "torch.get_default_dtype()"
      ],
      "metadata": {
        "colab": {
          "base_uri": "https://localhost:8080/"
        },
        "id": "5VxVVlEIchjs",
        "outputId": "209b8a40-eff8-454a-864f-ca13ff576fc9"
      },
      "execution_count": null,
      "outputs": [
        {
          "output_type": "execute_result",
          "data": {
            "text/plain": [
              "torch.float32"
            ]
          },
          "metadata": {},
          "execution_count": 3
        }
      ]
    },
    {
      "cell_type": "code",
      "source": [
        "torch.set_default_dtype(torch.float64)\n",
        "torch.get_default_dtype()"
      ],
      "metadata": {
        "colab": {
          "base_uri": "https://localhost:8080/"
        },
        "id": "wKiBnT4bckPS",
        "outputId": "94340c82-97af-400f-e75b-bc283aaf7cd8"
      },
      "execution_count": null,
      "outputs": [
        {
          "output_type": "execute_result",
          "data": {
            "text/plain": [
              "torch.float64"
            ]
          },
          "metadata": {},
          "execution_count": 4
        }
      ]
    },
    {
      "cell_type": "markdown",
      "source": [
        "##Creating and initializing tensors"
      ],
      "metadata": {
        "id": "uhilRx3vc_Hy"
      }
    },
    {
      "cell_type": "code",
      "source": [
        "#Create tensor from array using torch.Tensor\n",
        "torch_arr = torch.Tensor([[1,2,3], [4,5,6]])\n",
        "torch_arr"
      ],
      "metadata": {
        "colab": {
          "base_uri": "https://localhost:8080/"
        },
        "id": "O7xI7VU3c0Y4",
        "outputId": "bee1b3dc-110e-4caf-cfcb-d8fbaf3a4f8a"
      },
      "execution_count": null,
      "outputs": [
        {
          "output_type": "execute_result",
          "data": {
            "text/plain": [
              "tensor([[1., 2., 3.],\n",
              "        [4., 5., 6.]])"
            ]
          },
          "metadata": {},
          "execution_count": 5
        }
      ]
    },
    {
      "cell_type": "code",
      "source": [
        "#init int tensor\n",
        "torch.IntTensor([[1,2,3],[4,5,6]])\n",
        "# or \n",
        "torch.tensor([[1,2],[3,5]])"
      ],
      "metadata": {
        "colab": {
          "base_uri": "https://localhost:8080/"
        },
        "id": "tDb1PBBic9Ce",
        "outputId": "7237a612-3c33-4f95-abc5-1cab4c66c97c"
      },
      "execution_count": null,
      "outputs": [
        {
          "output_type": "execute_result",
          "data": {
            "text/plain": [
              "tensor([[1, 2],\n",
              "        [3, 5]])"
            ]
          },
          "metadata": {},
          "execution_count": 6
        }
      ]
    },
    {
      "cell_type": "code",
      "source": [
        "#check is tensor\n",
        "torch.is_tensor(torch_arr)"
      ],
      "metadata": {
        "colab": {
          "base_uri": "https://localhost:8080/"
        },
        "id": "ND__z-w6dOP6",
        "outputId": "3e36e778-a392-4c6a-ae2a-ddbdc1d43668"
      },
      "execution_count": null,
      "outputs": [
        {
          "output_type": "execute_result",
          "data": {
            "text/plain": [
              "True"
            ]
          },
          "metadata": {},
          "execution_count": 7
        }
      ]
    },
    {
      "cell_type": "code",
      "source": [
        "# count number of element \n",
        "torch.numel(torch_arr)"
      ],
      "metadata": {
        "colab": {
          "base_uri": "https://localhost:8080/"
        },
        "id": "Aspv2f62dQJx",
        "outputId": "b1687818-4b63-4bbd-fcfa-7a3760409fce"
      },
      "execution_count": null,
      "outputs": [
        {
          "output_type": "execute_result",
          "data": {
            "text/plain": [
              "6"
            ]
          },
          "metadata": {},
          "execution_count": 8
        }
      ]
    },
    {
      "cell_type": "code",
      "source": [
        "# init tensor with shape\n",
        "tensor_init = torch.Tensor(2,2)\n",
        "tensor_init"
      ],
      "metadata": {
        "colab": {
          "base_uri": "https://localhost:8080/"
        },
        "id": "ARQOPOVndbFx",
        "outputId": "c983960a-3a8f-4988-95ca-c91926b7f237"
      },
      "execution_count": null,
      "outputs": [
        {
          "output_type": "execute_result",
          "data": {
            "text/plain": [
              "tensor([[5.9465e-316, 4.9407e-324],\n",
              "        [4.9407e-324, 4.9407e-324]])"
            ]
          },
          "metadata": {},
          "execution_count": 9
        }
      ]
    },
    {
      "cell_type": "code",
      "source": [
        "#init tensor with shape using rand\n",
        "tensor_init = torch.rand(2,3)\n",
        "tensor_init"
      ],
      "metadata": {
        "colab": {
          "base_uri": "https://localhost:8080/"
        },
        "id": "4ihhK57vdwbm",
        "outputId": "162ececc-459a-4367-d252-1b12f67e7e28"
      },
      "execution_count": null,
      "outputs": [
        {
          "output_type": "execute_result",
          "data": {
            "text/plain": [
              "tensor([[0.3492, 0.2917, 0.6833],\n",
              "        [0.1492, 0.8041, 0.6237]])"
            ]
          },
          "metadata": {},
          "execution_count": 10
        }
      ]
    },
    {
      "cell_type": "code",
      "source": [
        "# init tensor with dtype\n",
        "torch.tensor([1,2]).type(torch.float32)"
      ],
      "metadata": {
        "colab": {
          "base_uri": "https://localhost:8080/"
        },
        "id": "Hw3E02i0d-Rb",
        "outputId": "0718bbfa-37e8-43c8-8167-16ada31dddcd"
      },
      "execution_count": null,
      "outputs": [
        {
          "output_type": "execute_result",
          "data": {
            "text/plain": [
              "tensor([1., 2.], dtype=torch.float32)"
            ]
          },
          "metadata": {},
          "execution_count": 11
        }
      ]
    },
    {
      "cell_type": "code",
      "source": [
        "#create tensor with specified shape and a inital value\n",
        "tensor_fill = torch.full((2,5), fill_value=10,)\n",
        "tensor_fill"
      ],
      "metadata": {
        "colab": {
          "base_uri": "https://localhost:8080/"
        },
        "id": "xc7V_4S7eH4j",
        "outputId": "61aefd3e-ec6b-471d-df93-21d61b181905"
      },
      "execution_count": null,
      "outputs": [
        {
          "output_type": "execute_result",
          "data": {
            "text/plain": [
              "tensor([[10, 10, 10, 10, 10],\n",
              "        [10, 10, 10, 10, 10]])"
            ]
          },
          "metadata": {},
          "execution_count": 12
        }
      ]
    },
    {
      "cell_type": "code",
      "source": [
        "#create tensor of ones\n",
        "tensor_ones = torch.ones(2,5).type(torch.int)\n",
        "tensor_ones"
      ],
      "metadata": {
        "colab": {
          "base_uri": "https://localhost:8080/"
        },
        "id": "rgqG4d7Fe08a",
        "outputId": "7ef97183-4917-4a4d-d895-c4bd489bd122"
      },
      "execution_count": null,
      "outputs": [
        {
          "output_type": "execute_result",
          "data": {
            "text/plain": [
              "tensor([[1, 1, 1, 1, 1],\n",
              "        [1, 1, 1, 1, 1]], dtype=torch.int32)"
            ]
          },
          "metadata": {},
          "execution_count": 13
        }
      ]
    },
    {
      "cell_type": "code",
      "source": [
        "#create tensor of zeros\n",
        "tensor_zeros = torch.zeros(2,5)\n",
        "tensor_zeros"
      ],
      "metadata": {
        "colab": {
          "base_uri": "https://localhost:8080/"
        },
        "id": "XgiWY7-te5yv",
        "outputId": "05b6f2f0-95c2-40de-bfc8-89527a770ddd"
      },
      "execution_count": null,
      "outputs": [
        {
          "output_type": "execute_result",
          "data": {
            "text/plain": [
              "tensor([[0., 0., 0., 0., 0.],\n",
              "        [0., 0., 0., 0., 0.]])"
            ]
          },
          "metadata": {},
          "execution_count": 14
        }
      ]
    },
    {
      "cell_type": "code",
      "source": [
        "#Create unit matrix\n",
        "tensor_eye = torch.eye(5)\n",
        "tensor_eye"
      ],
      "metadata": {
        "colab": {
          "base_uri": "https://localhost:8080/"
        },
        "id": "G9YpzL8UfGT7",
        "outputId": "a88a53a5-0fc4-4252-bc35-69d2dc778028"
      },
      "execution_count": null,
      "outputs": [
        {
          "output_type": "execute_result",
          "data": {
            "text/plain": [
              "tensor([[1., 0., 0., 0., 0.],\n",
              "        [0., 1., 0., 0., 0.],\n",
              "        [0., 0., 1., 0., 0.],\n",
              "        [0., 0., 0., 1., 0.],\n",
              "        [0., 0., 0., 0., 1.]])"
            ]
          },
          "metadata": {},
          "execution_count": 15
        }
      ]
    },
    {
      "cell_type": "code",
      "source": [
        "#find none zeros positions in a matrix\n",
        "none_zero = torch.nonzero(tensor_eye)\n",
        "none_zero"
      ],
      "metadata": {
        "colab": {
          "base_uri": "https://localhost:8080/"
        },
        "id": "h4XKnH67fNdG",
        "outputId": "e3101570-473d-4a06-fd50-d766503ce10f"
      },
      "execution_count": null,
      "outputs": [
        {
          "output_type": "execute_result",
          "data": {
            "text/plain": [
              "tensor([[0, 0],\n",
              "        [1, 1],\n",
              "        [2, 2],\n",
              "        [3, 3],\n",
              "        [4, 4]])"
            ]
          },
          "metadata": {},
          "execution_count": 16
        }
      ]
    },
    {
      "cell_type": "code",
      "source": [
        "# make copy of array, list, tensor\n",
        "i = torch.tensor([[0, 1,1], [2, 2, 0]])"
      ],
      "metadata": {
        "id": "LpyaB0iDfiVB"
      },
      "execution_count": null,
      "outputs": []
    },
    {
      "cell_type": "code",
      "source": [
        "v = torch.tensor([3, 4, 5]).type(torch.float32)"
      ],
      "metadata": {
        "id": "fdl_NdOqf1qz"
      },
      "execution_count": null,
      "outputs": []
    },
    {
      "cell_type": "code",
      "source": [
        "#construct parse tensor in coordinate format with non-zero element at indices with the given values\n",
        "sparse_tensor = torch.sparse_coo_tensor(i, v, [2, 5])"
      ],
      "metadata": {
        "id": "pqj50ueDf4nH"
      },
      "execution_count": null,
      "outputs": []
    },
    {
      "cell_type": "code",
      "source": [
        "sparse_tensor.data"
      ],
      "metadata": {
        "colab": {
          "base_uri": "https://localhost:8080/"
        },
        "id": "bj4WQQ12f_TW",
        "outputId": "3a4b4dce-549f-4f6e-81d9-f61a6e0861ed"
      },
      "execution_count": null,
      "outputs": [
        {
          "output_type": "execute_result",
          "data": {
            "text/plain": [
              "tensor(indices=tensor([[0, 1, 1],\n",
              "                       [2, 2, 0]]),\n",
              "       values=tensor([3., 4., 5.]),\n",
              "       size=(2, 5), nnz=3, dtype=torch.float32, layout=torch.sparse_coo)"
            ]
          },
          "metadata": {},
          "execution_count": 20
        }
      ]
    },
    {
      "cell_type": "markdown",
      "source": [
        "##Simple operations"
      ],
      "metadata": {
        "id": "aAC8XtcAh_n7"
      }
    },
    {
      "cell_type": "markdown",
      "source": [
        "Operations that modify the tensor in-place have a \"_\" suffix"
      ],
      "metadata": {
        "id": "3oY69i9OiPJK"
      }
    },
    {
      "cell_type": "code",
      "source": [
        "initial_tensor = torch.rand(2, 3)"
      ],
      "metadata": {
        "id": "I-XcJgrBiO-F"
      },
      "execution_count": null,
      "outputs": []
    },
    {
      "cell_type": "code",
      "source": [
        "initial_tensor.fill_(10)\n",
        "print(initial_tensor)"
      ],
      "metadata": {
        "colab": {
          "base_uri": "https://localhost:8080/"
        },
        "id": "mW_tdbDjgF5I",
        "outputId": "a393e7d7-e19c-4167-e2d8-66215203fb33"
      },
      "execution_count": null,
      "outputs": [
        {
          "output_type": "stream",
          "name": "stdout",
          "text": [
            "tensor([[10., 10., 10.],\n",
            "        [10., 10., 10.]])\n"
          ]
        }
      ]
    },
    {
      "cell_type": "code",
      "source": [
        "# not all operation have inplace version\n",
        "initial_tensor.fill(10)"
      ],
      "metadata": {
        "colab": {
          "base_uri": "https://localhost:8080/",
          "height": 218
        },
        "id": "lNkPX8JRidax",
        "outputId": "7545709b-ec17-467f-ea28-8be055b82ff3"
      },
      "execution_count": null,
      "outputs": [
        {
          "output_type": "error",
          "ename": "AttributeError",
          "evalue": "ignored",
          "traceback": [
            "\u001b[0;31m---------------------------------------------------------------------------\u001b[0m",
            "\u001b[0;31mAttributeError\u001b[0m                            Traceback (most recent call last)",
            "\u001b[0;32m<ipython-input-23-a412503025a3>\u001b[0m in \u001b[0;36m<module>\u001b[0;34m()\u001b[0m\n\u001b[1;32m      1\u001b[0m \u001b[0;31m# not all operation\u001b[0m\u001b[0;34m\u001b[0m\u001b[0;34m\u001b[0m\u001b[0;34m\u001b[0m\u001b[0m\n\u001b[0;32m----> 2\u001b[0;31m \u001b[0minitial_tensor\u001b[0m\u001b[0;34m.\u001b[0m\u001b[0mfill\u001b[0m\u001b[0;34m(\u001b[0m\u001b[0;36m10\u001b[0m\u001b[0;34m)\u001b[0m\u001b[0;34m\u001b[0m\u001b[0;34m\u001b[0m\u001b[0m\n\u001b[0m",
            "\u001b[0;31mAttributeError\u001b[0m: 'Tensor' object has no attribute 'fill'"
          ]
        }
      ]
    },
    {
      "cell_type": "code",
      "source": [
        "t = initial_tensor.add(5)\n",
        "t"
      ],
      "metadata": {
        "colab": {
          "base_uri": "https://localhost:8080/"
        },
        "id": "1IPiz5C1imzS",
        "outputId": "511412c0-4646-454a-8276-b09f39d05c9c"
      },
      "execution_count": null,
      "outputs": [
        {
          "output_type": "execute_result",
          "data": {
            "text/plain": [
              "tensor([[15., 15., 15.],\n",
              "        [15., 15., 15.]])"
            ]
          },
          "metadata": {},
          "execution_count": 24
        }
      ]
    },
    {
      "cell_type": "code",
      "source": [
        "initial_tensor.add_(5)\n",
        "print(initial_tensor)"
      ],
      "metadata": {
        "colab": {
          "base_uri": "https://localhost:8080/"
        },
        "id": "pHq9gqPsisVn",
        "outputId": "e5a8e083-7891-4ba3-d0f9-d91eef4d11e4"
      },
      "execution_count": null,
      "outputs": [
        {
          "output_type": "stream",
          "name": "stdout",
          "text": [
            "tensor([[15., 15., 15.],\n",
            "        [15., 15., 15.]])\n"
          ]
        }
      ]
    },
    {
      "cell_type": "code",
      "source": [
        "t.sqrt_()"
      ],
      "metadata": {
        "colab": {
          "base_uri": "https://localhost:8080/"
        },
        "id": "Bwzqv_Qfi5_a",
        "outputId": "9e014d54-aab9-4afb-c688-5f3f84544fe2"
      },
      "execution_count": null,
      "outputs": [
        {
          "output_type": "execute_result",
          "data": {
            "text/plain": [
              "tensor([[3.8730, 3.8730, 3.8730],\n",
              "        [3.8730, 3.8730, 3.8730]])"
            ]
          },
          "metadata": {},
          "execution_count": 26
        }
      ]
    },
    {
      "cell_type": "code",
      "source": [
        "# create tensor within a range with even space\n",
        "x = torch.linspace(start=0.1, end=10.0, steps=15)\n",
        "x"
      ],
      "metadata": {
        "colab": {
          "base_uri": "https://localhost:8080/"
        },
        "id": "2xHet8Emi-GS",
        "outputId": "fd22652f-d07b-4ce0-fbf9-0ab38c00d092"
      },
      "execution_count": null,
      "outputs": [
        {
          "output_type": "execute_result",
          "data": {
            "text/plain": [
              "tensor([ 0.1000,  0.8071,  1.5143,  2.2214,  2.9286,  3.6357,  4.3429,  5.0500,\n",
              "         5.7571,  6.4643,  7.1714,  7.8786,  8.5857,  9.2929, 10.0000])"
            ]
          },
          "metadata": {},
          "execution_count": 27
        }
      ]
    },
    {
      "cell_type": "code",
      "source": [
        "tensor_chunk = torch.chunk(x, 3, 0) # chunk into 3 part according to 0 axis\n",
        "tensor1, tensor2, tensor3 =  tensor_chunk"
      ],
      "metadata": {
        "id": "iIEY5ia0jJHs"
      },
      "execution_count": null,
      "outputs": []
    },
    {
      "cell_type": "code",
      "source": [
        "torch.cat((tensor1, tensor2, tensor3), 0) # concat 3 tensor according to 0 axis"
      ],
      "metadata": {
        "colab": {
          "base_uri": "https://localhost:8080/"
        },
        "id": "69XOGIBejhWt",
        "outputId": "c8c8a92b-53e3-4c9f-cc7f-0b38b472ff25"
      },
      "execution_count": null,
      "outputs": [
        {
          "output_type": "execute_result",
          "data": {
            "text/plain": [
              "tensor([ 0.1000,  0.8071,  1.5143,  2.2214,  2.9286,  3.6357,  4.3429,  5.0500,\n",
              "         5.7571,  6.4643,  7.1714,  7.8786,  8.5857,  9.2929, 10.0000])"
            ]
          },
          "metadata": {},
          "execution_count": 29
        }
      ]
    },
    {
      "cell_type": "code",
      "source": [
        "random = torch.rand(3,3)\n",
        "random"
      ],
      "metadata": {
        "colab": {
          "base_uri": "https://localhost:8080/"
        },
        "id": "6TBkJR1ojvGx",
        "outputId": "4391609c-7d6c-4993-cb22-e392f8118611"
      },
      "execution_count": null,
      "outputs": [
        {
          "output_type": "execute_result",
          "data": {
            "text/plain": [
              "tensor([[0.3906, 0.8524, 0.1274],\n",
              "        [0.6597, 0.4550, 0.2174],\n",
              "        [0.8182, 0.0499, 0.0195]])"
            ]
          },
          "metadata": {},
          "execution_count": 30
        }
      ]
    },
    {
      "cell_type": "code",
      "source": [
        "random[0,1]"
      ],
      "metadata": {
        "colab": {
          "base_uri": "https://localhost:8080/"
        },
        "id": "RgWkJq4DkNiA",
        "outputId": "58741465-4e26-4902-880a-5949ef40c99a"
      },
      "execution_count": null,
      "outputs": [
        {
          "output_type": "execute_result",
          "data": {
            "text/plain": [
              "tensor(0.8524)"
            ]
          },
          "metadata": {},
          "execution_count": 31
        }
      ]
    },
    {
      "cell_type": "code",
      "source": [
        "random.size()"
      ],
      "metadata": {
        "colab": {
          "base_uri": "https://localhost:8080/"
        },
        "id": "pMVgq38EkOsq",
        "outputId": "1a70332f-a743-4e99-9101-aef8161886ab"
      },
      "execution_count": null,
      "outputs": [
        {
          "output_type": "execute_result",
          "data": {
            "text/plain": [
              "torch.Size([3, 3])"
            ]
          },
          "metadata": {},
          "execution_count": 32
        }
      ]
    },
    {
      "cell_type": "code",
      "source": [
        "#view a tensor in a different shape, this does not create new tensor\n",
        "random.view(9)"
      ],
      "metadata": {
        "colab": {
          "base_uri": "https://localhost:8080/"
        },
        "id": "-ZbBNG_vkXsP",
        "outputId": "7dadc303-2494-434c-f31c-a5022d4f92fe"
      },
      "execution_count": null,
      "outputs": [
        {
          "output_type": "execute_result",
          "data": {
            "text/plain": [
              "tensor([0.3906, 0.8524, 0.1274, 0.6597, 0.4550, 0.2174, 0.8182, 0.0499, 0.0195])"
            ]
          },
          "metadata": {},
          "execution_count": 33
        }
      ]
    },
    {
      "cell_type": "code",
      "source": [
        "resized = random.view(-1)\n",
        "resized"
      ],
      "metadata": {
        "colab": {
          "base_uri": "https://localhost:8080/"
        },
        "id": "YTJnqZHdkrdY",
        "outputId": "a33d2d32-bc91-493c-b2f3-d22ba0959b26"
      },
      "execution_count": null,
      "outputs": [
        {
          "output_type": "execute_result",
          "data": {
            "text/plain": [
              "tensor([0.3906, 0.8524, 0.1274, 0.6597, 0.4550, 0.2174, 0.8182, 0.0499, 0.0195])"
            ]
          },
          "metadata": {},
          "execution_count": 34
        }
      ]
    },
    {
      "cell_type": "code",
      "source": [
        "random[2,2] = 100\n",
        "#this show that resized have its memory shared with random\n",
        "resized"
      ],
      "metadata": {
        "colab": {
          "base_uri": "https://localhost:8080/"
        },
        "id": "KTH1n1g-kwWO",
        "outputId": "692c19f8-3640-4b7a-ba3d-042a28ead0fb"
      },
      "execution_count": null,
      "outputs": [
        {
          "output_type": "execute_result",
          "data": {
            "text/plain": [
              "tensor([3.9061e-01, 8.5240e-01, 1.2744e-01, 6.5967e-01, 4.5502e-01, 2.1742e-01,\n",
              "        8.1820e-01, 4.9886e-02, 1.0000e+02])"
            ]
          },
          "metadata": {},
          "execution_count": 35
        }
      ]
    },
    {
      "cell_type": "code",
      "source": [
        "# add dim to tensor\n",
        "unsqueeze = torch.unsqueeze(random, 2)\n",
        "print(unsqueeze)\n",
        "unsqueeze.shape"
      ],
      "metadata": {
        "colab": {
          "base_uri": "https://localhost:8080/"
        },
        "id": "hdi50IPtlDwK",
        "outputId": "debd7d1d-5e41-4e2c-bb5d-b50eadcbf797"
      },
      "execution_count": null,
      "outputs": [
        {
          "output_type": "stream",
          "name": "stdout",
          "text": [
            "tensor([[[3.9061e-01],\n",
            "         [8.5240e-01],\n",
            "         [1.2744e-01]],\n",
            "\n",
            "        [[6.5967e-01],\n",
            "         [4.5502e-01],\n",
            "         [2.1742e-01]],\n",
            "\n",
            "        [[8.1820e-01],\n",
            "         [4.9886e-02],\n",
            "         [1.0000e+02]]])\n"
          ]
        },
        {
          "output_type": "execute_result",
          "data": {
            "text/plain": [
              "torch.Size([3, 3, 1])"
            ]
          },
          "metadata": {},
          "execution_count": 36
        }
      ]
    },
    {
      "cell_type": "markdown",
      "source": [
        "##Elementwise and matrix Operations on Tensors"
      ],
      "metadata": {
        "id": "Yd5ylp-vmIjH"
      }
    },
    {
      "cell_type": "code",
      "source": [
        "#sort\n",
        "sorted, sorted_indices = torch.sort(random)\n",
        "sorted"
      ],
      "metadata": {
        "colab": {
          "base_uri": "https://localhost:8080/"
        },
        "id": "1MkWWTXtl7iD",
        "outputId": "3cf27461-cf01-47da-bffc-63802bb6af76"
      },
      "execution_count": null,
      "outputs": [
        {
          "output_type": "execute_result",
          "data": {
            "text/plain": [
              "tensor([[1.2744e-01, 3.9061e-01, 8.5240e-01],\n",
              "        [2.1742e-01, 4.5502e-01, 6.5967e-01],\n",
              "        [4.9886e-02, 8.1820e-01, 1.0000e+02]])"
            ]
          },
          "metadata": {},
          "execution_count": 38
        }
      ]
    },
    {
      "cell_type": "code",
      "source": [
        "sorted_indices"
      ],
      "metadata": {
        "colab": {
          "base_uri": "https://localhost:8080/"
        },
        "id": "4UcFxtS6mfnr",
        "outputId": "3dd8f22d-e960-4776-f896-331de5812c17"
      },
      "execution_count": null,
      "outputs": [
        {
          "output_type": "execute_result",
          "data": {
            "text/plain": [
              "tensor([[2, 0, 1],\n",
              "        [2, 1, 0],\n",
              "        [1, 0, 2]])"
            ]
          },
          "metadata": {},
          "execution_count": 39
        }
      ]
    },
    {
      "cell_type": "code",
      "source": [
        "F = torch.linspace(start=-5, end=5, steps=5).type(torch.int)\n",
        "F"
      ],
      "metadata": {
        "colab": {
          "base_uri": "https://localhost:8080/"
        },
        "id": "9rK9hLtwmwkz",
        "outputId": "9f781505-59fd-4bfd-da83-7f00e6018a5f"
      },
      "execution_count": null,
      "outputs": [
        {
          "output_type": "execute_result",
          "data": {
            "text/plain": [
              "tensor([-5, -2,  0,  2,  5], dtype=torch.int32)"
            ]
          },
          "metadata": {},
          "execution_count": 51
        }
      ]
    },
    {
      "cell_type": "code",
      "source": [
        "#abs\n",
        "abs = torch.abs(F)\n",
        "abs"
      ],
      "metadata": {
        "colab": {
          "base_uri": "https://localhost:8080/"
        },
        "id": "Ozzf2U7Km3Tw",
        "outputId": "474118f5-7e73-4bc0-ec2b-5af22ef7e9be"
      },
      "execution_count": null,
      "outputs": [
        {
          "output_type": "execute_result",
          "data": {
            "text/plain": [
              "tensor([5, 2, 0, 2, 5], dtype=torch.int32)"
            ]
          },
          "metadata": {},
          "execution_count": 52
        }
      ]
    },
    {
      "cell_type": "code",
      "source": [
        "#add\n",
        "add = F + F\n",
        "print(add)\n",
        "add2 = torch.add(F, F)\n",
        "print(add2)"
      ],
      "metadata": {
        "colab": {
          "base_uri": "https://localhost:8080/"
        },
        "id": "p4qeytDPnA_X",
        "outputId": "e7cf9aea-77c2-444a-dc51-cc9235f69219"
      },
      "execution_count": null,
      "outputs": [
        {
          "output_type": "stream",
          "name": "stdout",
          "text": [
            "tensor([-10,  -4,   0,   4,  10], dtype=torch.int32)\n",
            "tensor([-10,  -4,   0,   4,  10], dtype=torch.int32)\n"
          ]
        }
      ]
    },
    {
      "cell_type": "code",
      "source": [
        "#dividing\n",
        "div = torch.div(F, F + 0.3)\n",
        "div"
      ],
      "metadata": {
        "colab": {
          "base_uri": "https://localhost:8080/"
        },
        "id": "Hl-IBjEqnFD0",
        "outputId": "d0fcd616-df5f-4488-f0c9-659baa28092d"
      },
      "execution_count": null,
      "outputs": [
        {
          "output_type": "execute_result",
          "data": {
            "text/plain": [
              "tensor([1.0638, 1.1765, 0.0000, 0.8696, 0.9434])"
            ]
          },
          "metadata": {},
          "execution_count": 61
        }
      ]
    },
    {
      "cell_type": "code",
      "source": [
        "#multiplying \n",
        "mul = torch.mul(F, F)\n",
        "mul"
      ],
      "metadata": {
        "colab": {
          "base_uri": "https://localhost:8080/"
        },
        "id": "JqIExFAWnyox",
        "outputId": "e6b8b0bf-2728-4c91-e444-b7e2752b80cd"
      },
      "execution_count": null,
      "outputs": [
        {
          "output_type": "execute_result",
          "data": {
            "text/plain": [
              "tensor([25,  4,  0,  4, 25], dtype=torch.int32)"
            ]
          },
          "metadata": {},
          "execution_count": 62
        }
      ]
    },
    {
      "cell_type": "code",
      "source": [
        "#put a limit within range between 0 and 2 \n",
        "clamp = torch.clamp(F, min=0, max=2)\n",
        "clamp"
      ],
      "metadata": {
        "colab": {
          "base_uri": "https://localhost:8080/"
        },
        "id": "gFbTUeXRoF9f",
        "outputId": "51168262-e8e0-4e98-d753-2416b276771c"
      },
      "execution_count": null,
      "outputs": [
        {
          "output_type": "execute_result",
          "data": {
            "text/plain": [
              "tensor([0, 0, 0, 2, 2], dtype=torch.int32)"
            ]
          },
          "metadata": {},
          "execution_count": 89
        }
      ]
    },
    {
      "cell_type": "code",
      "source": [
        "# dot product\n",
        "v1 = torch.rand(3)\n",
        "v2 = torch.rand(3)\n",
        "torch.dot(v1,v2)"
      ],
      "metadata": {
        "colab": {
          "base_uri": "https://localhost:8080/"
        },
        "id": "-aL0V0nYo5L4",
        "outputId": "07b73e28-96bb-4ba1-f1ee-ad5c191ee199"
      },
      "execution_count": null,
      "outputs": [
        {
          "output_type": "execute_result",
          "data": {
            "text/plain": [
              "tensor(1.0495)"
            ]
          },
          "metadata": {},
          "execution_count": 70
        }
      ]
    },
    {
      "cell_type": "code",
      "source": [
        "# matrix multiplication\n",
        "m1 = torch.rand(3,3)\n",
        "m2 = torch.rand(3, 2)\n",
        "print(torch.matmul(m1,m2))\n",
        "#or\n",
        "print(torch.mm(m1,m2))"
      ],
      "metadata": {
        "colab": {
          "base_uri": "https://localhost:8080/"
        },
        "id": "33GUd4LBoMax",
        "outputId": "6b85657f-8689-4c2e-ade9-9f9599928443"
      },
      "execution_count": null,
      "outputs": [
        {
          "output_type": "stream",
          "name": "stdout",
          "text": [
            "tensor([[0.4952, 0.5504],\n",
            "        [0.7262, 0.3924],\n",
            "        [0.5820, 0.3672]])\n",
            "tensor([[0.4952, 0.5504],\n",
            "        [0.7262, 0.3924],\n",
            "        [0.5820, 0.3672]])\n"
          ]
        }
      ]
    },
    {
      "cell_type": "code",
      "source": [
        "# multiply a matrix and a vector\n",
        "mv = torch.mv(m1, v1)\n",
        "mv"
      ],
      "metadata": {
        "colab": {
          "base_uri": "https://localhost:8080/"
        },
        "id": "zojMPtT9orEQ",
        "outputId": "0a218ea3-e062-4fc7-eed6-9da302d10bbd"
      },
      "execution_count": null,
      "outputs": [
        {
          "output_type": "execute_result",
          "data": {
            "text/plain": [
              "tensor([0.6358, 0.7997, 0.8349])"
            ]
          },
          "metadata": {},
          "execution_count": 86
        }
      ]
    },
    {
      "cell_type": "code",
      "source": [
        "# find max/min along an axis in a matrix\n",
        "print(torch.argmax(torch.matmul(m1,m2), dim=1))\n",
        "print(torch.argmin(torch.matmul(m1,m2), dim=1))\n",
        "print(torch.argmax(torch.matmul(m1,m2), dim=0))\n",
        "print(torch.argmin(torch.matmul(m1,m2), dim=0))"
      ],
      "metadata": {
        "colab": {
          "base_uri": "https://localhost:8080/"
        },
        "id": "dT2XPGY8pK6o",
        "outputId": "36d9aa15-8d7d-4e9f-8207-a6f954ee75c2"
      },
      "execution_count": null,
      "outputs": [
        {
          "output_type": "stream",
          "name": "stdout",
          "text": [
            "tensor([1, 0, 0])\n",
            "tensor([0, 1, 1])\n",
            "tensor([1, 0])\n",
            "tensor([0, 2])\n"
          ]
        }
      ]
    },
    {
      "cell_type": "markdown",
      "source": [
        "## Convert between pytorch and numpy"
      ],
      "metadata": {
        "id": "mjmDdUjFrFiM"
      }
    },
    {
      "cell_type": "code",
      "source": [
        "tensor = torch.rand(5,5)\n",
        "type(tensor)"
      ],
      "metadata": {
        "colab": {
          "base_uri": "https://localhost:8080/"
        },
        "id": "DZoF8Crcp-Y5",
        "outputId": "e2a5a830-6803-45ba-a91f-870d93284dfc"
      },
      "execution_count": null,
      "outputs": [
        {
          "output_type": "execute_result",
          "data": {
            "text/plain": [
              "torch.Tensor"
            ]
          },
          "metadata": {},
          "execution_count": 91
        }
      ]
    },
    {
      "cell_type": "code",
      "source": [
        "np_from_tensor = tensor.numpy()\n",
        "print(type(np_from_tensor))\n"
      ],
      "metadata": {
        "colab": {
          "base_uri": "https://localhost:8080/"
        },
        "id": "Jl5h_XXLrOLW",
        "outputId": "012f0e10-a3d1-469a-e2d7-b0b72fb8819b"
      },
      "execution_count": null,
      "outputs": [
        {
          "output_type": "execute_result",
          "data": {
            "text/plain": [
              "numpy.ndarray"
            ]
          },
          "metadata": {},
          "execution_count": 93
        }
      ]
    },
    {
      "cell_type": "markdown",
      "source": [
        "# Pytorch and GPU"
      ],
      "metadata": {
        "id": "LzCH9FkktKA4"
      }
    },
    {
      "cell_type": "code",
      "source": [
        "x = F.cuda()"
      ],
      "metadata": {
        "id": "zqwwdqcwsLJo"
      },
      "execution_count": null,
      "outputs": []
    },
    {
      "cell_type": "code",
      "source": [
        "x"
      ],
      "metadata": {
        "colab": {
          "base_uri": "https://localhost:8080/"
        },
        "id": "OEerKA12tOMl",
        "outputId": "5e3eee11-6711-4ddf-cf9c-975d49ae46c7"
      },
      "execution_count": null,
      "outputs": [
        {
          "output_type": "execute_result",
          "data": {
            "text/plain": [
              "tensor([-5, -2,  0,  2,  5], device='cuda:0', dtype=torch.int32)"
            ]
          },
          "metadata": {},
          "execution_count": 96
        }
      ]
    },
    {
      "cell_type": "code",
      "source": [
        "x = torch.tensor([1,2], device='cuda:0')"
      ],
      "metadata": {
        "id": "wqjd3_aFtP_w"
      },
      "execution_count": null,
      "outputs": []
    },
    {
      "cell_type": "code",
      "source": [
        "x"
      ],
      "metadata": {
        "colab": {
          "base_uri": "https://localhost:8080/"
        },
        "id": "mIGX0q7GtaOy",
        "outputId": "95ee2d27-207d-40b5-ead2-bb8caf574fd3"
      },
      "execution_count": null,
      "outputs": [
        {
          "output_type": "execute_result",
          "data": {
            "text/plain": [
              "tensor([1, 2], device='cuda:0')"
            ]
          },
          "metadata": {},
          "execution_count": 100
        }
      ]
    },
    {
      "cell_type": "code",
      "source": [
        "print('Outsite with context: ', torch.cuda.current_device())\n",
        "with torch.cuda.device(0):\n",
        "  print('Inside with context: ', torch.cuda.current_device)\n",
        "\n",
        "print('Outside with context again', torch.cuda.current_device())"
      ],
      "metadata": {
        "colab": {
          "base_uri": "https://localhost:8080/"
        },
        "id": "uav_Luldtezb",
        "outputId": "92d5a17b-548a-4f35-f91b-a231bcc79bf8"
      },
      "execution_count": null,
      "outputs": [
        {
          "output_type": "stream",
          "name": "stdout",
          "text": [
            "Outsite with context:  0\n",
            "Inside with context:  <function current_device at 0x7f54d444add0>\n",
            "Outside with context again 0\n"
          ]
        }
      ]
    },
    {
      "cell_type": "code",
      "source": [
        "with torch.cuda.device(0):\n",
        "  a = torch.tensor([10, 20])\n",
        "  b = torch.tensor([10, 20], device=torch.cuda.current_device())\n"
      ],
      "metadata": {
        "id": "UnZHWqu2t3aN"
      },
      "execution_count": null,
      "outputs": []
    },
    {
      "cell_type": "code",
      "source": [
        "a"
      ],
      "metadata": {
        "colab": {
          "base_uri": "https://localhost:8080/"
        },
        "id": "LSB5ozSOuJOf",
        "outputId": "bfa4abd4-34bb-43c4-e7d2-b9d24fee9b58"
      },
      "execution_count": null,
      "outputs": [
        {
          "output_type": "execute_result",
          "data": {
            "text/plain": [
              "tensor([10, 20])"
            ]
          },
          "metadata": {},
          "execution_count": 109
        }
      ]
    },
    {
      "cell_type": "code",
      "source": [
        "b"
      ],
      "metadata": {
        "colab": {
          "base_uri": "https://localhost:8080/"
        },
        "id": "tg3vr2gGuJky",
        "outputId": "9e6667d0-d954-4549-cd8c-909cd59db0bc"
      },
      "execution_count": null,
      "outputs": [
        {
          "output_type": "execute_result",
          "data": {
            "text/plain": [
              "tensor([10, 20], device='cuda:0')"
            ]
          },
          "metadata": {},
          "execution_count": 110
        }
      ]
    },
    {
      "cell_type": "code",
      "source": [
        "c = a.cuda() + b\n",
        "print(c)"
      ],
      "metadata": {
        "colab": {
          "base_uri": "https://localhost:8080/"
        },
        "id": "ZbkluE60udS2",
        "outputId": "ff68d358-b918-4743-f221-328e00ccac01"
      },
      "execution_count": null,
      "outputs": [
        {
          "output_type": "stream",
          "name": "stdout",
          "text": [
            "tensor([20, 40], device='cuda:0')\n"
          ]
        }
      ]
    },
    {
      "cell_type": "code",
      "source": [
        "c"
      ],
      "metadata": {
        "colab": {
          "base_uri": "https://localhost:8080/"
        },
        "id": "0mv5IEpJuo7v",
        "outputId": "f5723c2f-50f0-4d53-8a07-7be9a86f58da"
      },
      "execution_count": null,
      "outputs": [
        {
          "output_type": "execute_result",
          "data": {
            "text/plain": [
              "tensor([20, 40], device='cuda:0')"
            ]
          },
          "metadata": {},
          "execution_count": 112
        }
      ]
    },
    {
      "cell_type": "code",
      "source": [
        "torch.cuda.memory_allocated()"
      ],
      "metadata": {
        "colab": {
          "base_uri": "https://localhost:8080/"
        },
        "id": "7UG-matvupsX",
        "outputId": "82de110f-adef-4ce9-d636-83df83d2ee43"
      },
      "execution_count": null,
      "outputs": [
        {
          "output_type": "execute_result",
          "data": {
            "text/plain": [
              "2560"
            ]
          },
          "metadata": {},
          "execution_count": 115
        }
      ]
    },
    {
      "cell_type": "code",
      "source": [
        "torch.cuda.memory_cached()"
      ],
      "metadata": {
        "colab": {
          "base_uri": "https://localhost:8080/"
        },
        "id": "zut37Fiqu8lM",
        "outputId": "5c156c9c-f1e2-4984-995f-3c3bfc777684"
      },
      "execution_count": null,
      "outputs": [
        {
          "output_type": "stream",
          "name": "stderr",
          "text": [
            "/usr/local/lib/python3.7/dist-packages/torch/cuda/memory.py:386: FutureWarning: torch.cuda.memory_cached has been renamed to torch.cuda.memory_reserved\n",
            "  FutureWarning)\n"
          ]
        },
        {
          "output_type": "execute_result",
          "data": {
            "text/plain": [
              "2097152"
            ]
          },
          "metadata": {},
          "execution_count": 117
        }
      ]
    },
    {
      "cell_type": "code",
      "source": [
        "torch.cuda.empty_cache()"
      ],
      "metadata": {
        "id": "UGW9UREZu3Eh"
      },
      "execution_count": null,
      "outputs": []
    },
    {
      "cell_type": "markdown",
      "source": [
        "#Working with gradient using AutoGrad"
      ],
      "metadata": {
        "id": "ra0_ybBXvbwQ"
      }
    },
    {
      "cell_type": "code",
      "source": [
        "import torch\n",
        "\n"
      ],
      "metadata": {
        "id": "4-LhR571vBsZ"
      },
      "execution_count": null,
      "outputs": []
    }
  ],
  "metadata": {
    "accelerator": "GPU",
    "colab": {
      "collapsed_sections": [],
      "machine_shape": "hm",
      "name": "Pytorch_tensor.ipynb",
      "provenance": [],
      "authorship_tag": "ABX9TyMC30EXBzWhfb4BAettzm//",
      "include_colab_link": true
    },
    "kernelspec": {
      "display_name": "Python 3",
      "name": "python3"
    },
    "language_info": {
      "name": "python"
    }
  },
  "nbformat": 4,
  "nbformat_minor": 0
}